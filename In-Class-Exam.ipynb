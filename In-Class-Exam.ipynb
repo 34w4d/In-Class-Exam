{
 "cells": [
  {
   "cell_type": "code",
   "execution_count": 1,
   "id": "6d538a54",
   "metadata": {},
   "outputs": [],
   "source": [
    "#Question 1 \n",
    "import numpy as np\n",
    "import pandas as pd\n",
    "import yfinance as yf\n",
    "import matplotlib.pyplot as plt"
   ]
  },
  {
   "cell_type": "code",
   "execution_count": 5,
   "id": "d5230140",
   "metadata": {},
   "outputs": [
    {
     "name": "stdout",
     "output_type": "stream",
     "text": [
      "[*********************100%%**********************]  1 of 1 completed\n"
     ]
    }
   ],
   "source": [
    "#to download the data of the stock of Cisco Systems Inc by month.\n",
    "data = yf.download('CSCO', start='2015-01-01', end='2020-01-31',interval='1mo')"
   ]
  },
  {
   "cell_type": "code",
   "execution_count": 6,
   "id": "b3b518fb",
   "metadata": {},
   "outputs": [
    {
     "data": {
      "text/plain": [
       "Date\n",
       "2015-01-01    19.908743\n",
       "2015-02-01    22.432571\n",
       "2015-03-01    20.927452\n",
       "2015-04-01    22.083382\n",
       "2015-05-01    22.451054\n",
       "Name: Adj Close, dtype: float64"
      ]
     },
     "execution_count": 6,
     "metadata": {},
     "output_type": "execute_result"
    }
   ],
   "source": [
    "#The stock price of CSCO for the first couple of months.\n",
    "data['Adj Close'].head()"
   ]
  },
  {
   "cell_type": "code",
   "execution_count": 7,
   "id": "8f0ce54e",
   "metadata": {},
   "outputs": [
    {
     "data": {
      "text/plain": [
       "Date\n",
       "2019-09-01    43.328835\n",
       "2019-10-01    41.662674\n",
       "2019-11-01    40.034386\n",
       "2019-12-01    42.375843\n",
       "2020-01-01    40.617542\n",
       "Name: Adj Close, dtype: float64"
      ]
     },
     "execution_count": 7,
     "metadata": {},
     "output_type": "execute_result"
    }
   ],
   "source": [
    "#To check the stock price of CSCO in the last couple of months.\n",
    "data['Adj Close'].tail()"
   ]
  },
  {
   "cell_type": "code",
   "execution_count": 8,
   "id": "810c88da",
   "metadata": {},
   "outputs": [],
   "source": [
    "#to compute the monthly log return\n",
    "data['LogRet'] = np.log(data['Adj Close'] / data['Adj Close'].shift(1))\n",
    "month_log_return=data['LogRet']"
   ]
  },
  {
   "cell_type": "code",
   "execution_count": 9,
   "id": "df3b6f75",
   "metadata": {},
   "outputs": [],
   "source": [
    "#to compute the annualized return based on monthly log return.\n",
    "annualized_return = data['LogRet'].mean() * 12"
   ]
  },
  {
   "cell_type": "code",
   "execution_count": 10,
   "id": "fbae3fd3",
   "metadata": {},
   "outputs": [
    {
     "data": {
      "text/plain": [
       "Date\n",
       "2015-01-01         NaN\n",
       "2015-02-01    0.119355\n",
       "2015-03-01   -0.069452\n",
       "2015-04-01    0.053764\n",
       "2015-05-01    0.016512\n",
       "                ...   \n",
       "2019-09-01    0.054056\n",
       "2019-10-01   -0.039213\n",
       "2019-11-01   -0.039867\n",
       "2019-12-01    0.056840\n",
       "2020-01-01   -0.042378\n",
       "Name: LogRet, Length: 61, dtype: float64"
      ]
     },
     "execution_count": 10,
     "metadata": {},
     "output_type": "execute_result"
    }
   ],
   "source": [
    "#This is the monthly log return of Apple stock price.\n",
    "month_log_return"
   ]
  },
  {
   "cell_type": "code",
   "execution_count": 11,
   "id": "b356b89f",
   "metadata": {},
   "outputs": [
    {
     "name": "stdout",
     "output_type": "stream",
     "text": [
      "Annualized return: 14.26%\n"
     ]
    }
   ],
   "source": [
    "#This is the annualised return of this stock.\n",
    "print(f'Annualized return: {annualized_return * 100:.2f}%')"
   ]
  },
  {
   "cell_type": "code",
   "execution_count": 12,
   "id": "0f0a1850",
   "metadata": {},
   "outputs": [
    {
     "name": "stdout",
     "output_type": "stream",
     "text": [
      "Annualized Volatility: 21.80%\n"
     ]
    }
   ],
   "source": [
    "#to compute annualised volatility\n",
    "annualized_volatility = data['LogRet'].std() * np.sqrt(12)\n",
    "print(f'Annualized Volatility: {annualized_volatility * 100:.2f}%')"
   ]
  },
  {
   "cell_type": "code",
   "execution_count": 13,
   "id": "c89aef5c",
   "metadata": {},
   "outputs": [],
   "source": [
    "#import esg data\n",
    "import yesg\n",
    "from datetime import datetime"
   ]
  },
  {
   "cell_type": "code",
   "execution_count": 14,
   "id": "919396c5",
   "metadata": {},
   "outputs": [
    {
     "data": {
      "text/html": [
       "<div>\n",
       "<style scoped>\n",
       "    .dataframe tbody tr th:only-of-type {\n",
       "        vertical-align: middle;\n",
       "    }\n",
       "\n",
       "    .dataframe tbody tr th {\n",
       "        vertical-align: top;\n",
       "    }\n",
       "\n",
       "    .dataframe thead th {\n",
       "        text-align: right;\n",
       "    }\n",
       "</style>\n",
       "<table border=\"1\" class=\"dataframe\">\n",
       "  <thead>\n",
       "    <tr style=\"text-align: right;\">\n",
       "      <th></th>\n",
       "      <th>Total-Score</th>\n",
       "      <th>E-Score</th>\n",
       "      <th>S-Score</th>\n",
       "      <th>G-Score</th>\n",
       "    </tr>\n",
       "    <tr>\n",
       "      <th>Date</th>\n",
       "      <th></th>\n",
       "      <th></th>\n",
       "      <th></th>\n",
       "      <th></th>\n",
       "    </tr>\n",
       "  </thead>\n",
       "  <tbody>\n",
       "    <tr>\n",
       "      <th>2014-09-01</th>\n",
       "      <td>80.00</td>\n",
       "      <td>86.00</td>\n",
       "      <td>79.00</td>\n",
       "      <td>72.00</td>\n",
       "    </tr>\n",
       "    <tr>\n",
       "      <th>2014-10-01</th>\n",
       "      <td>78.00</td>\n",
       "      <td>86.00</td>\n",
       "      <td>79.00</td>\n",
       "      <td>72.00</td>\n",
       "    </tr>\n",
       "    <tr>\n",
       "      <th>2014-11-01</th>\n",
       "      <td>80.00</td>\n",
       "      <td>86.00</td>\n",
       "      <td>79.00</td>\n",
       "      <td>72.00</td>\n",
       "    </tr>\n",
       "    <tr>\n",
       "      <th>2014-12-01</th>\n",
       "      <td>80.00</td>\n",
       "      <td>86.00</td>\n",
       "      <td>79.00</td>\n",
       "      <td>72.00</td>\n",
       "    </tr>\n",
       "    <tr>\n",
       "      <th>2015-01-01</th>\n",
       "      <td>80.00</td>\n",
       "      <td>86.00</td>\n",
       "      <td>79.00</td>\n",
       "      <td>72.00</td>\n",
       "    </tr>\n",
       "    <tr>\n",
       "      <th>...</th>\n",
       "      <td>...</td>\n",
       "      <td>...</td>\n",
       "      <td>...</td>\n",
       "      <td>...</td>\n",
       "    </tr>\n",
       "    <tr>\n",
       "      <th>2022-04-01</th>\n",
       "      <td>NaN</td>\n",
       "      <td>NaN</td>\n",
       "      <td>NaN</td>\n",
       "      <td>NaN</td>\n",
       "    </tr>\n",
       "    <tr>\n",
       "      <th>2022-05-01</th>\n",
       "      <td>11.82</td>\n",
       "      <td>0.03</td>\n",
       "      <td>5.59</td>\n",
       "      <td>6.20</td>\n",
       "    </tr>\n",
       "    <tr>\n",
       "      <th>2022-06-01</th>\n",
       "      <td>NaN</td>\n",
       "      <td>NaN</td>\n",
       "      <td>NaN</td>\n",
       "      <td>NaN</td>\n",
       "    </tr>\n",
       "    <tr>\n",
       "      <th>2022-07-01</th>\n",
       "      <td>NaN</td>\n",
       "      <td>NaN</td>\n",
       "      <td>NaN</td>\n",
       "      <td>NaN</td>\n",
       "    </tr>\n",
       "    <tr>\n",
       "      <th>2022-08-01</th>\n",
       "      <td>12.07</td>\n",
       "      <td>0.03</td>\n",
       "      <td>5.59</td>\n",
       "      <td>6.45</td>\n",
       "    </tr>\n",
       "  </tbody>\n",
       "</table>\n",
       "<p>96 rows × 4 columns</p>\n",
       "</div>"
      ],
      "text/plain": [
       "            Total-Score  E-Score  S-Score  G-Score\n",
       "Date                                              \n",
       "2014-09-01        80.00    86.00    79.00    72.00\n",
       "2014-10-01        78.00    86.00    79.00    72.00\n",
       "2014-11-01        80.00    86.00    79.00    72.00\n",
       "2014-12-01        80.00    86.00    79.00    72.00\n",
       "2015-01-01        80.00    86.00    79.00    72.00\n",
       "...                 ...      ...      ...      ...\n",
       "2022-04-01          NaN      NaN      NaN      NaN\n",
       "2022-05-01        11.82     0.03     5.59     6.20\n",
       "2022-06-01          NaN      NaN      NaN      NaN\n",
       "2022-07-01          NaN      NaN      NaN      NaN\n",
       "2022-08-01        12.07     0.03     5.59     6.45\n",
       "\n",
       "[96 rows x 4 columns]"
      ]
     },
     "execution_count": 14,
     "metadata": {},
     "output_type": "execute_result"
    }
   ],
   "source": [
    "#compute historical data\n",
    "ESG_for_all = yesg.get_historic_esg('CSCO')\n",
    "ESG_for_all"
   ]
  },
  {
   "cell_type": "code",
   "execution_count": 15,
   "id": "590404b5",
   "metadata": {},
   "outputs": [
    {
     "data": {
      "text/html": [
       "<div>\n",
       "<style scoped>\n",
       "    .dataframe tbody tr th:only-of-type {\n",
       "        vertical-align: middle;\n",
       "    }\n",
       "\n",
       "    .dataframe tbody tr th {\n",
       "        vertical-align: top;\n",
       "    }\n",
       "\n",
       "    .dataframe thead th {\n",
       "        text-align: right;\n",
       "    }\n",
       "</style>\n",
       "<table border=\"1\" class=\"dataframe\">\n",
       "  <thead>\n",
       "    <tr style=\"text-align: right;\">\n",
       "      <th></th>\n",
       "      <th>Total-Score</th>\n",
       "      <th>E-Score</th>\n",
       "      <th>S-Score</th>\n",
       "      <th>G-Score</th>\n",
       "    </tr>\n",
       "    <tr>\n",
       "      <th>Date</th>\n",
       "      <th></th>\n",
       "      <th></th>\n",
       "      <th></th>\n",
       "      <th></th>\n",
       "    </tr>\n",
       "  </thead>\n",
       "  <tbody>\n",
       "    <tr>\n",
       "      <th>2015-01-01</th>\n",
       "      <td>80.00</td>\n",
       "      <td>86.00</td>\n",
       "      <td>79.00</td>\n",
       "      <td>72.00</td>\n",
       "    </tr>\n",
       "    <tr>\n",
       "      <th>2015-02-01</th>\n",
       "      <td>80.00</td>\n",
       "      <td>86.00</td>\n",
       "      <td>79.00</td>\n",
       "      <td>72.00</td>\n",
       "    </tr>\n",
       "    <tr>\n",
       "      <th>2015-03-01</th>\n",
       "      <td>80.00</td>\n",
       "      <td>85.00</td>\n",
       "      <td>79.00</td>\n",
       "      <td>72.00</td>\n",
       "    </tr>\n",
       "    <tr>\n",
       "      <th>2015-04-01</th>\n",
       "      <td>80.00</td>\n",
       "      <td>85.00</td>\n",
       "      <td>79.00</td>\n",
       "      <td>72.00</td>\n",
       "    </tr>\n",
       "    <tr>\n",
       "      <th>2015-05-01</th>\n",
       "      <td>80.00</td>\n",
       "      <td>85.00</td>\n",
       "      <td>79.00</td>\n",
       "      <td>72.00</td>\n",
       "    </tr>\n",
       "    <tr>\n",
       "      <th>...</th>\n",
       "      <td>...</td>\n",
       "      <td>...</td>\n",
       "      <td>...</td>\n",
       "      <td>...</td>\n",
       "    </tr>\n",
       "    <tr>\n",
       "      <th>2019-09-01</th>\n",
       "      <td>80.15</td>\n",
       "      <td>84.12</td>\n",
       "      <td>84.20</td>\n",
       "      <td>68.15</td>\n",
       "    </tr>\n",
       "    <tr>\n",
       "      <th>2019-10-01</th>\n",
       "      <td>80.15</td>\n",
       "      <td>84.12</td>\n",
       "      <td>84.20</td>\n",
       "      <td>68.15</td>\n",
       "    </tr>\n",
       "    <tr>\n",
       "      <th>2019-11-01</th>\n",
       "      <td>79.98</td>\n",
       "      <td>84.12</td>\n",
       "      <td>84.20</td>\n",
       "      <td>67.45</td>\n",
       "    </tr>\n",
       "    <tr>\n",
       "      <th>2019-12-01</th>\n",
       "      <td>14.11</td>\n",
       "      <td>0.60</td>\n",
       "      <td>6.59</td>\n",
       "      <td>6.92</td>\n",
       "    </tr>\n",
       "    <tr>\n",
       "      <th>2020-01-01</th>\n",
       "      <td>14.11</td>\n",
       "      <td>0.60</td>\n",
       "      <td>6.59</td>\n",
       "      <td>6.92</td>\n",
       "    </tr>\n",
       "  </tbody>\n",
       "</table>\n",
       "<p>61 rows × 4 columns</p>\n",
       "</div>"
      ],
      "text/plain": [
       "            Total-Score  E-Score  S-Score  G-Score\n",
       "Date                                              \n",
       "2015-01-01        80.00    86.00    79.00    72.00\n",
       "2015-02-01        80.00    86.00    79.00    72.00\n",
       "2015-03-01        80.00    85.00    79.00    72.00\n",
       "2015-04-01        80.00    85.00    79.00    72.00\n",
       "2015-05-01        80.00    85.00    79.00    72.00\n",
       "...                 ...      ...      ...      ...\n",
       "2019-09-01        80.15    84.12    84.20    68.15\n",
       "2019-10-01        80.15    84.12    84.20    68.15\n",
       "2019-11-01        79.98    84.12    84.20    67.45\n",
       "2019-12-01        14.11     0.60     6.59     6.92\n",
       "2020-01-01        14.11     0.60     6.59     6.92\n",
       "\n",
       "[61 rows x 4 columns]"
      ]
     },
     "execution_count": 15,
     "metadata": {},
     "output_type": "execute_result"
    }
   ],
   "source": [
    "#to give the data in the time frame between 2015-01-01 to 2019-12-31\n",
    "ESG=ESG_for_all.iloc[4:65]\n",
    "ESG"
   ]
  },
  {
   "cell_type": "code",
   "execution_count": 16,
   "id": "50bdbce1",
   "metadata": {},
   "outputs": [
    {
     "data": {
      "text/html": [
       "<div>\n",
       "<style scoped>\n",
       "    .dataframe tbody tr th:only-of-type {\n",
       "        vertical-align: middle;\n",
       "    }\n",
       "\n",
       "    .dataframe tbody tr th {\n",
       "        vertical-align: top;\n",
       "    }\n",
       "\n",
       "    .dataframe thead th {\n",
       "        text-align: right;\n",
       "    }\n",
       "</style>\n",
       "<table border=\"1\" class=\"dataframe\">\n",
       "  <thead>\n",
       "    <tr style=\"text-align: right;\">\n",
       "      <th></th>\n",
       "      <th>Total-Score</th>\n",
       "      <th>E-Score</th>\n",
       "      <th>S-Score</th>\n",
       "      <th>G-Score</th>\n",
       "    </tr>\n",
       "    <tr>\n",
       "      <th>Date</th>\n",
       "      <th></th>\n",
       "      <th></th>\n",
       "      <th></th>\n",
       "      <th></th>\n",
       "    </tr>\n",
       "  </thead>\n",
       "  <tbody>\n",
       "    <tr>\n",
       "      <th>2015-01-01</th>\n",
       "      <td>80.00</td>\n",
       "      <td>86.00</td>\n",
       "      <td>79.00</td>\n",
       "      <td>72.00</td>\n",
       "    </tr>\n",
       "    <tr>\n",
       "      <th>2015-02-01</th>\n",
       "      <td>80.00</td>\n",
       "      <td>86.00</td>\n",
       "      <td>79.00</td>\n",
       "      <td>72.00</td>\n",
       "    </tr>\n",
       "    <tr>\n",
       "      <th>2015-03-01</th>\n",
       "      <td>80.00</td>\n",
       "      <td>85.00</td>\n",
       "      <td>79.00</td>\n",
       "      <td>72.00</td>\n",
       "    </tr>\n",
       "    <tr>\n",
       "      <th>2015-04-01</th>\n",
       "      <td>80.00</td>\n",
       "      <td>85.00</td>\n",
       "      <td>79.00</td>\n",
       "      <td>72.00</td>\n",
       "    </tr>\n",
       "    <tr>\n",
       "      <th>2015-05-01</th>\n",
       "      <td>80.00</td>\n",
       "      <td>85.00</td>\n",
       "      <td>79.00</td>\n",
       "      <td>72.00</td>\n",
       "    </tr>\n",
       "    <tr>\n",
       "      <th>...</th>\n",
       "      <td>...</td>\n",
       "      <td>...</td>\n",
       "      <td>...</td>\n",
       "      <td>...</td>\n",
       "    </tr>\n",
       "    <tr>\n",
       "      <th>2019-09-01</th>\n",
       "      <td>80.15</td>\n",
       "      <td>84.12</td>\n",
       "      <td>84.20</td>\n",
       "      <td>68.15</td>\n",
       "    </tr>\n",
       "    <tr>\n",
       "      <th>2019-10-01</th>\n",
       "      <td>80.15</td>\n",
       "      <td>84.12</td>\n",
       "      <td>84.20</td>\n",
       "      <td>68.15</td>\n",
       "    </tr>\n",
       "    <tr>\n",
       "      <th>2019-11-01</th>\n",
       "      <td>79.98</td>\n",
       "      <td>84.12</td>\n",
       "      <td>84.20</td>\n",
       "      <td>67.45</td>\n",
       "    </tr>\n",
       "    <tr>\n",
       "      <th>2019-12-01</th>\n",
       "      <td>14.11</td>\n",
       "      <td>0.60</td>\n",
       "      <td>6.59</td>\n",
       "      <td>6.92</td>\n",
       "    </tr>\n",
       "    <tr>\n",
       "      <th>2020-01-01</th>\n",
       "      <td>14.11</td>\n",
       "      <td>0.60</td>\n",
       "      <td>6.59</td>\n",
       "      <td>6.92</td>\n",
       "    </tr>\n",
       "  </tbody>\n",
       "</table>\n",
       "<p>61 rows × 4 columns</p>\n",
       "</div>"
      ],
      "text/plain": [
       "            Total-Score  E-Score  S-Score  G-Score\n",
       "Date                                              \n",
       "2015-01-01        80.00    86.00    79.00    72.00\n",
       "2015-02-01        80.00    86.00    79.00    72.00\n",
       "2015-03-01        80.00    85.00    79.00    72.00\n",
       "2015-04-01        80.00    85.00    79.00    72.00\n",
       "2015-05-01        80.00    85.00    79.00    72.00\n",
       "...                 ...      ...      ...      ...\n",
       "2019-09-01        80.15    84.12    84.20    68.15\n",
       "2019-10-01        80.15    84.12    84.20    68.15\n",
       "2019-11-01        79.98    84.12    84.20    67.45\n",
       "2019-12-01        14.11     0.60     6.59     6.92\n",
       "2020-01-01        14.11     0.60     6.59     6.92\n",
       "\n",
       "[61 rows x 4 columns]"
      ]
     },
     "execution_count": 16,
     "metadata": {},
     "output_type": "execute_result"
    }
   ],
   "source": [
    "#fill them using the data from the previous month if there is no data\n",
    "ESG_filled = ESG.fillna(method='ffill')\n",
    "#show the data\n",
    "ESG_filled"
   ]
  },
  {
   "cell_type": "code",
   "execution_count": 17,
   "id": "8aca8692",
   "metadata": {},
   "outputs": [
    {
     "data": {
      "text/plain": [
       "Text(0.5, 1.0, 'ESG for Cisco Systems Inc.')"
      ]
     },
     "execution_count": 17,
     "metadata": {},
     "output_type": "execute_result"
    },
    {
     "data": {
      "image/png": "[encoded data removed]",
      "text/plain": [
       "<Figure size 1000x600 with 1 Axes>"
      ]
     },
     "metadata": {},
     "output_type": "display_data"
    }
   ],
   "source": [
    "#plot the graph of ESG\n",
    "ESG_filled.plot(figsize=(10, 6))\n",
    "plt.xlabel('Time')\n",
    "plt.ylabel('score')\n",
    "plt.title('ESG for Cisco Systems Inc.')"
   ]
  },
  {
   "cell_type": "code",
   "execution_count": 18,
   "id": "78b09ad2",
   "metadata": {},
   "outputs": [
    {
     "name": "stdout",
     "output_type": "stream",
     "text": [
      "The correlation between the stock price of CSCO and ESG total score from 2015-01-01 to 2019-12-31 is -0.1624\n"
     ]
    }
   ],
   "source": [
    "#the correlation\n",
    "correlation = data['Adj Close'].corr(ESG_filled['Total-Score'])\n",
    "print(f\"The correlation between the stock price of CSCO and ESG total score from 2015-01-01 to 2019-12-31 is {correlation:.4f}\")\n",
    "#My analysis: The E-score, S-score and G-score as well as ESG total score all have a decreasing trend with time.\n",
    "#This indicate that the firm has done worse and worse in the sustainability criteria."
   ]
  },
  {
   "cell_type": "code",
   "execution_count": 19,
   "id": "741776f7",
   "metadata": {},
   "outputs": [],
   "source": [
    "#Question 2\n",
    "\n",
    "#I was born in Fuzhou, China, in July.\n",
    "#Latitude: 26.0827° N\n",
    "#Longitude: 119.3060° E\n",
    "#Altitude: The altitude of Fuzhou averagely is around 10 meters above sea level.\n",
    "\n",
    "import numpy as np\n",
    "from datetime import datetime\n",
    "import matplotlib.pyplot as plt\n",
    "from meteostat import Point, Daily\n",
    "\n",
    "start = datetime(2022, 7, 1)\n",
    "end = datetime(2022, 7, 31)\n",
    "location = Point(26.0827, 119.3060, 10)"
   ]
  },
  {
   "cell_type": "code",
   "execution_count": 21,
   "id": "aacbbd21",
   "metadata": {},
   "outputs": [],
   "source": [
    "data = Daily(location, start, end)\n",
    "data = data.fetch()"
   ]
  },
  {
   "cell_type": "code",
   "execution_count": 22,
   "id": "ceabc233",
   "metadata": {},
   "outputs": [
    {
     "data": {
      "text/plain": [
       "[10.600000000000001,\n",
       " 9.0,\n",
       " 9.600000000000001,\n",
       " 10.8,\n",
       " 10.2,\n",
       " 10.8,\n",
       " 11.8,\n",
       " 13.2,\n",
       " 13.399999999999999,\n",
       " 13.0,\n",
       " 12.600000000000001,\n",
       " 12.2,\n",
       " 12.399999999999999,\n",
       " 12.2,\n",
       " 13.0,\n",
       " 12.600000000000001,\n",
       " 12.600000000000001,\n",
       " 12.0,\n",
       " 12.8,\n",
       " 13.8,\n",
       " 14.100000000000001,\n",
       " 14.200000000000003,\n",
       " 14.0,\n",
       " 13.600000000000001,\n",
       " 12.8,\n",
       " 12.8,\n",
       " 12.600000000000001,\n",
       " 11.8,\n",
       " 12.600000000000001,\n",
       " 12.2,\n",
       " 13.8]"
      ]
     },
     "execution_count": 22,
     "metadata": {},
     "output_type": "execute_result"
    }
   ],
   "source": [
    "T_base = 18\n",
    "cdds = [max(temp - T_base, 0) for temp in data.tavg]\n",
    "cdds"
   ]
  },
  {
   "cell_type": "code",
   "execution_count": 23,
   "id": "5bdbce24",
   "metadata": {},
   "outputs": [
    {
     "name": "stdout",
     "output_type": "stream",
     "text": [
      "Total CDD: 383.1000000000001\n"
     ]
    }
   ],
   "source": [
    "#To find out the total cdd we sum up all the cdds in that particular month.\n",
    "total_cdd = sum(cdds)\n",
    "print(\"Total CDD:\", total_cdd)"
   ]
  },
  {
   "cell_type": "code",
   "execution_count": null,
   "id": "b60a5a34",
   "metadata": {},
   "outputs": [],
   "source": []
  }
 ],
 "metadata": {
  "kernelspec": {
   "display_name": "Python 3 (ipykernel)",
   "language": "python",
   "name": "python3"
  },
  "language_info": {
   "codemirror_mode": {
    "name": "ipython",
    "version": 3
   },
   "file_extension": ".py",
   "mimetype": "text/x-python",
   "name": "python",
   "nbconvert_exporter": "python",
   "pygments_lexer": "ipython3",
   "version": "3.11.5"
  }
 },
 "nbformat": 4,
 "nbformat_minor": 5
}
